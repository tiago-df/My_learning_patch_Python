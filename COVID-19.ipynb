{
 "cells": [
  {
   "cell_type": "code",
   "execution_count": 16,
   "metadata": {},
   "outputs": [],
   "source": [
    "import pandas as pd\n",
    "import matplotlib.pyplot as plt\n",
    "%matplotlib inline\n",
    "import seaborn as sns\n",
    "#import requests\n",
    "\n",
    "#LinkCOVID19SP = 'https://github.com/seade-R/dados-covid-sp/raw/master/data/dados_covid_sp.csv'\n",
    "#loadCOVID19SP = requests.get(LinkCOVID19SP).content\n",
    "loadCOVID19SP = 'https://github.com/seade-R/dados-covid-sp/raw/master/data/dados_covid_sp.csv'\n",
    "\n",
    "DataCOVID19SP = pd.read_csv(loadCOVID19SP,\n",
    "                      delimiter=';', \n",
    "                      encoding='utf-8',\n",
    "                      decimal=',',\n",
    "                      parse_dates=['datahora'])\n",
    "#                      index_col='datahora')\n",
    "#DataCOVID19SP.info()\n",
    "\n",
    "DataCOVID19SP = DataCOVID19SP[['nome_munic','datahora','obitos_mm7d']]"
   ]
  },
  {
   "cell_type": "code",
   "execution_count": 12,
   "metadata": {},
   "outputs": [
    {
     "data": {
      "text/html": [
       "<div>\n",
       "<style scoped>\n",
       "    .dataframe tbody tr th:only-of-type {\n",
       "        vertical-align: middle;\n",
       "    }\n",
       "\n",
       "    .dataframe tbody tr th {\n",
       "        vertical-align: top;\n",
       "    }\n",
       "\n",
       "    .dataframe thead th {\n",
       "        text-align: right;\n",
       "    }\n",
       "</style>\n",
       "<table border=\"1\" class=\"dataframe\">\n",
       "  <thead>\n",
       "    <tr style=\"text-align: right;\">\n",
       "      <th></th>\n",
       "      <th>nome_munic</th>\n",
       "      <th>datahora</th>\n",
       "      <th>obitos_mm7d</th>\n",
       "    </tr>\n",
       "  </thead>\n",
       "  <tbody>\n",
       "    <tr>\n",
       "      <th>71142</th>\n",
       "      <td>São Paulo</td>\n",
       "      <td>2020-06-19</td>\n",
       "      <td>110.714286</td>\n",
       "    </tr>\n",
       "    <tr>\n",
       "      <th>71756</th>\n",
       "      <td>São Paulo</td>\n",
       "      <td>2020-06-20</td>\n",
       "      <td>110.285714</td>\n",
       "    </tr>\n",
       "    <tr>\n",
       "      <th>72370</th>\n",
       "      <td>São Paulo</td>\n",
       "      <td>2020-06-21</td>\n",
       "      <td>109.142857</td>\n",
       "    </tr>\n",
       "    <tr>\n",
       "      <th>72984</th>\n",
       "      <td>São Paulo</td>\n",
       "      <td>2020-06-22</td>\n",
       "      <td>107.428571</td>\n",
       "    </tr>\n",
       "    <tr>\n",
       "      <th>73598</th>\n",
       "      <td>São Paulo</td>\n",
       "      <td>2020-06-23</td>\n",
       "      <td>109.142857</td>\n",
       "    </tr>\n",
       "  </tbody>\n",
       "</table>\n",
       "</div>"
      ],
      "text/plain": [
       "      nome_munic   datahora  obitos_mm7d\n",
       "71142  São Paulo 2020-06-19   110.714286\n",
       "71756  São Paulo 2020-06-20   110.285714\n",
       "72370  São Paulo 2020-06-21   109.142857\n",
       "72984  São Paulo 2020-06-22   107.428571\n",
       "73598  São Paulo 2020-06-23   109.142857"
      ]
     },
     "execution_count": 12,
     "metadata": {},
     "output_type": "execute_result"
    }
   ],
   "source": [
    "DataCOVID19SP[DataCOVID19SP['nome_munic'] == 'São Paulo'].tail()"
   ]
  },
  {
   "cell_type": "code",
   "execution_count": 3,
   "metadata": {},
   "outputs": [],
   "source": [
    "#convertendo string to float, não é mais necessário depois que configurei a o simbolo decimal corretamente no csv.\n",
    "#DataCOVID19SP['obitos_mm7d'] = pd.to_numeric(DataCOVID19SP['obitos_mm7d'], errors='coerce')\n",
    "#DataCOVID19SP[DataCOVID19SP['nome_munic'] == 'São Paulo'].tail(15)"
   ]
  },
  {
   "cell_type": "code",
   "execution_count": 13,
   "metadata": {},
   "outputs": [
    {
     "name": "stdout",
     "output_type": "stream",
     "text": [
      "<class 'pandas.core.frame.DataFrame'>\n",
      "RangeIndex: 73800 entries, 0 to 73799\n",
      "Data columns (total 3 columns):\n",
      " #   Column       Non-Null Count  Dtype         \n",
      "---  ------       --------------  -----         \n",
      " 0   nome_munic   73800 non-null  object        \n",
      " 1   datahora     73800 non-null  datetime64[ns]\n",
      " 2   obitos_mm7d  73800 non-null  float64       \n",
      "dtypes: datetime64[ns](1), float64(1), object(1)\n",
      "memory usage: 1.7+ MB\n"
     ]
    }
   ],
   "source": [
    "DataCOVID19SP.info()"
   ]
  },
  {
   "cell_type": "code",
   "execution_count": 5,
   "metadata": {},
   "outputs": [
    {
     "data": {
      "text/html": [
       "<div>\n",
       "<style scoped>\n",
       "    .dataframe tbody tr th:only-of-type {\n",
       "        vertical-align: middle;\n",
       "    }\n",
       "\n",
       "    .dataframe tbody tr th {\n",
       "        vertical-align: top;\n",
       "    }\n",
       "\n",
       "    .dataframe thead th {\n",
       "        text-align: right;\n",
       "    }\n",
       "</style>\n",
       "<table border=\"1\" class=\"dataframe\">\n",
       "  <thead>\n",
       "    <tr style=\"text-align: right;\">\n",
       "      <th></th>\n",
       "      <th>nome_munic</th>\n",
       "      <th>datahora</th>\n",
       "      <th>obitos_mm7d</th>\n",
       "    </tr>\n",
       "  </thead>\n",
       "  <tbody>\n",
       "    <tr>\n",
       "      <th>71142</th>\n",
       "      <td>São Paulo</td>\n",
       "      <td>2020-06-19</td>\n",
       "      <td>110.714286</td>\n",
       "    </tr>\n",
       "    <tr>\n",
       "      <th>71756</th>\n",
       "      <td>São Paulo</td>\n",
       "      <td>2020-06-20</td>\n",
       "      <td>110.285714</td>\n",
       "    </tr>\n",
       "    <tr>\n",
       "      <th>72370</th>\n",
       "      <td>São Paulo</td>\n",
       "      <td>2020-06-21</td>\n",
       "      <td>109.142857</td>\n",
       "    </tr>\n",
       "    <tr>\n",
       "      <th>72984</th>\n",
       "      <td>São Paulo</td>\n",
       "      <td>2020-06-22</td>\n",
       "      <td>107.428571</td>\n",
       "    </tr>\n",
       "    <tr>\n",
       "      <th>73598</th>\n",
       "      <td>São Paulo</td>\n",
       "      <td>2020-06-23</td>\n",
       "      <td>109.142857</td>\n",
       "    </tr>\n",
       "  </tbody>\n",
       "</table>\n",
       "</div>"
      ],
      "text/plain": [
       "      nome_munic   datahora  obitos_mm7d\n",
       "71142  São Paulo 2020-06-19   110.714286\n",
       "71756  São Paulo 2020-06-20   110.285714\n",
       "72370  São Paulo 2020-06-21   109.142857\n",
       "72984  São Paulo 2020-06-22   107.428571\n",
       "73598  São Paulo 2020-06-23   109.142857"
      ]
     },
     "execution_count": 5,
     "metadata": {},
     "output_type": "execute_result"
    }
   ],
   "source": [
    "obitos_mm7d_SaoPaulo = DataCOVID19SP[DataCOVID19SP['nome_munic'] == 'São Paulo']\n",
    "obitos_mm7d_SaoPaulo.tail()"
   ]
  },
  {
   "cell_type": "code",
   "execution_count": 14,
   "metadata": {},
   "outputs": [
    {
     "data": {
      "image/png": "[encoded data removed]",
      "text/plain": [
       "<Figure size 2160x720 with 1 Axes>"
      ]
     },
     "metadata": {
      "needs_background": "light"
     },
     "output_type": "display_data"
    }
   ],
   "source": [
    "a = obitos_mm7d_SaoPaulo\n",
    "plt.figure(figsize=(30,10))\n",
    "sns.lineplot(x='datahora',y='obitos_mm7d', data=a)\n",
    "\n",
    "plt.show()"
   ]
  },
  {
   "cell_type": "code",
   "execution_count": null,
   "metadata": {},
   "outputs": [],
   "source": [
    "fig, ax = plt.subplots(figsize = (12,6))    \n",
    "fig = sns.lineplot(x = \"datahora\", y = \"obitos_mm7d\", data = obitos_mm7d_SaoPaulo, \n",
    "                  estimator = sum, ci = None, ax=ax)\n"
   ]
  }
 ],
 "metadata": {
  "kernelspec": {
   "display_name": "Python 3",
   "language": "python",
   "name": "python3"
  },
  "language_info": {
   "codemirror_mode": {
    "name": "ipython",
    "version": 3
   },
   "file_extension": ".py",
   "mimetype": "text/x-python",
   "name": "python",
   "nbconvert_exporter": "python",
   "pygments_lexer": "ipython3",
   "version": "3.8.3"
  }
 },
 "nbformat": 4,
 "nbformat_minor": 4
}
